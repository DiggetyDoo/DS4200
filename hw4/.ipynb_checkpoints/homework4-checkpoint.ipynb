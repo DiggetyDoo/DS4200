{
 "cells": [
  {
   "cell_type": "markdown",
   "id": "e8d5c88c",
   "metadata": {},
   "source": [
    "### Part 1 Explore the TX population and unemployment rate\n",
    "#### Part 1.1 Prepare the geospatial data (15 points)\n",
    "\n",
    "On Canvas, there is a csv file called \"unemp.csv\", which contains county-level information about unemployment rate and population. Use county level geo-spatial data provided in the lecture to merge two datasets. Then extract the part of data for Texas and make a map for Texas county. Only show the boundary for the counties. \n",
    "\n",
    "Note: Texas has 254 counties, more than any other U.S. state."
   ]
  },
  {
   "cell_type": "code",
   "execution_count": null,
   "id": "93bdd2b0-ba13-4e61-b027-b7e9ec5ef03d",
   "metadata": {},
   "outputs": [],
   "source": []
  },
  {
   "cell_type": "markdown",
   "id": "310c6fe2",
   "metadata": {},
   "source": [
    "#### Part 1.2 creating choropleth maps and customization (10 points)\n",
    "\n",
    "Make a choropleth maps with unemployment rate. Choose another color map from\n",
    "https://matplotlib.org/stable/users/explain/colors/colormaps.html. Give a title to the figure (use `plt.title`) as well as a title to the legend. \n"
   ]
  },
  {
   "cell_type": "code",
   "execution_count": null,
   "id": "a3bfd3cf-803e-4aa7-93aa-27915e2782e3",
   "metadata": {},
   "outputs": [],
   "source": []
  },
  {
   "cell_type": "markdown",
   "id": "f3a06ac5-7a90-43b4-8a6d-5fe71a12cb06",
   "metadata": {},
   "source": [
    "#### Part 1.3 Handle the missing values (15 points)\n",
    "\n",
    "Make a copy of your Texas data. Like what we have done in the lecture, randomly select 30 counties and set the unemployment rate as NaN. Plot the choropleth maps for the unemployment rate again. Define the color, boundary, and hatch pattern for the missing value areas. Also include a legend for the missing areas. Chooes a hatch pattern that is different from the lecture note from here: https://matplotlib.org/devdocs/gallery/shapes_and_collections/hatch_style_reference.html"
   ]
  },
  {
   "cell_type": "code",
   "execution_count": null,
   "id": "b71ee596-0dc2-444a-bef4-33e97ed8f2c9",
   "metadata": {},
   "outputs": [],
   "source": []
  },
  {
   "cell_type": "markdown",
   "id": "635b623b",
   "metadata": {},
   "source": [
    "#### Part 1.4 Multiple-layer plots (25 points)\n",
    "\n",
    "There is another attribute in the data which is called `pop`. This attributes represent the population in each county. This is a highly skewed attributed thus we first create a new attribute called `logpop`, which is the log of the population. Then make a map with two layers, one layer is the `logpop` and the second layer is `unemp`. Overlap both layers on the same map. Create one static figure and one interactive figure. In the interactive figure, the user should be able to select one or both layer to show and when they click the county, the information of population and unemployment rate are displayed. \n",
    "\n",
    "Note: You may need to create another copy of the data to show both layers. Also, you may need to add some transparency to the top layer so that the bottom layer can be seen. \n",
    "\n",
    "In the end, discuss how the overlapping colors and transparency factor affect people's understanding. "
   ]
  },
  {
   "cell_type": "code",
   "execution_count": null,
   "id": "d173b184-652d-4747-a4f9-7877fd1c482a",
   "metadata": {},
   "outputs": [],
   "source": []
  },
  {
   "cell_type": "markdown",
   "id": "c6bf8448",
   "metadata": {},
   "source": [
    "### Part 2 In-class activity 3 (15 points)\n",
    "\n",
    "Explore the information on \n",
    "https://www.naturalearthdata.com/downloads/ and download two datasets. For example, a world map as well as world airport locations. Create one interactive map with tooltip and popout functions. "
   ]
  },
  {
   "cell_type": "code",
   "execution_count": null,
   "id": "9b64c52e",
   "metadata": {},
   "outputs": [],
   "source": []
  },
  {
   "cell_type": "markdown",
   "id": "44595386-536e-4ec1-a1a5-ed2131a4e800",
   "metadata": {},
   "source": [
    "### Part 3 D3 Practice again (20 points)\n",
    "\n",
    "Replicate the bar plot (screenshot is attached on Canvas) in the sample project with D3. Also add an interaction option to the figure, such that users can click a couple of bars and highlight them with another color.  "
   ]
  },
  {
   "cell_type": "code",
   "execution_count": null,
   "id": "905841a9-2ea9-4f2d-864a-ebce571a6f3d",
   "metadata": {},
   "outputs": [],
   "source": []
  }
 ],
 "metadata": {
  "kernelspec": {
   "display_name": "Python 3 (ipykernel)",
   "language": "python",
   "name": "python3"
  },
  "language_info": {
   "codemirror_mode": {
    "name": "ipython",
    "version": 3
   },
   "file_extension": ".py",
   "mimetype": "text/x-python",
   "name": "python",
   "nbconvert_exporter": "python",
   "pygments_lexer": "ipython3",
   "version": "3.11.2"
  }
 },
 "nbformat": 4,
 "nbformat_minor": 5
}
