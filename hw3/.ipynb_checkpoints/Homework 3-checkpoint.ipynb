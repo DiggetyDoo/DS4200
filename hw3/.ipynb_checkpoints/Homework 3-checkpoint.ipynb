{
 "cells": [
  {
   "cell_type": "markdown",
   "id": "99be97ba",
   "metadata": {},
   "source": [
    "## Part 1: Altair interactive plots\n",
    "\n",
    "Gapminder is a non-profit organization that promotes global sustainable development and seeks to bridge the gap between misconceptions and data-driven understanding. We are going to explore the a small subset of its data with the information of average income, health score and population for each country in the world. The region information is also provided. \n"
   ]
  },
  {
   "cell_type": "code",
   "execution_count": 1,
   "id": "4cfa4cd1",
   "metadata": {},
   "outputs": [
    {
     "data": {
      "text/html": [
       "<div>\n",
       "<style scoped>\n",
       "    .dataframe tbody tr th:only-of-type {\n",
       "        vertical-align: middle;\n",
       "    }\n",
       "\n",
       "    .dataframe tbody tr th {\n",
       "        vertical-align: top;\n",
       "    }\n",
       "\n",
       "    .dataframe thead th {\n",
       "        text-align: right;\n",
       "    }\n",
       "</style>\n",
       "<table border=\"1\" class=\"dataframe\">\n",
       "  <thead>\n",
       "    <tr style=\"text-align: right;\">\n",
       "      <th></th>\n",
       "      <th>country</th>\n",
       "      <th>income</th>\n",
       "      <th>health</th>\n",
       "      <th>population</th>\n",
       "      <th>region</th>\n",
       "    </tr>\n",
       "  </thead>\n",
       "  <tbody>\n",
       "    <tr>\n",
       "      <th>0</th>\n",
       "      <td>Afghanistan</td>\n",
       "      <td>1925</td>\n",
       "      <td>57.63</td>\n",
       "      <td>32526562</td>\n",
       "      <td>south_asia</td>\n",
       "    </tr>\n",
       "    <tr>\n",
       "      <th>1</th>\n",
       "      <td>Albania</td>\n",
       "      <td>10620</td>\n",
       "      <td>76.00</td>\n",
       "      <td>2896679</td>\n",
       "      <td>europe_central_asia</td>\n",
       "    </tr>\n",
       "    <tr>\n",
       "      <th>2</th>\n",
       "      <td>Algeria</td>\n",
       "      <td>13434</td>\n",
       "      <td>76.50</td>\n",
       "      <td>39666519</td>\n",
       "      <td>middle_east_north_africa</td>\n",
       "    </tr>\n",
       "    <tr>\n",
       "      <th>3</th>\n",
       "      <td>Andorra</td>\n",
       "      <td>46577</td>\n",
       "      <td>84.10</td>\n",
       "      <td>70473</td>\n",
       "      <td>europe_central_asia</td>\n",
       "    </tr>\n",
       "    <tr>\n",
       "      <th>4</th>\n",
       "      <td>Angola</td>\n",
       "      <td>7615</td>\n",
       "      <td>61.00</td>\n",
       "      <td>25021974</td>\n",
       "      <td>sub_saharan_africa</td>\n",
       "    </tr>\n",
       "  </tbody>\n",
       "</table>\n",
       "</div>"
      ],
      "text/plain": [
       "       country  income  health  population                    region\n",
       "0  Afghanistan    1925   57.63    32526562                south_asia\n",
       "1      Albania   10620   76.00     2896679       europe_central_asia\n",
       "2      Algeria   13434   76.50    39666519  middle_east_north_africa\n",
       "3      Andorra   46577   84.10       70473       europe_central_asia\n",
       "4       Angola    7615   61.00    25021974        sub_saharan_africa"
      ]
     },
     "execution_count": 1,
     "metadata": {},
     "output_type": "execute_result"
    }
   ],
   "source": [
    "import altair as alt\n",
    "import pandas as pd\n",
    "\n",
    "gapminder = pd.read_csv('gapminder-health-income.csv')\n",
    "gapminder.head()"
   ]
  },
  {
   "cell_type": "markdown",
   "id": "40fb8abb",
   "metadata": {},
   "source": [
    "### Part 1.1 Add selection (5 points)\n",
    "\n",
    "Make a scatter plot to show the relationship between average personal income and average health score. Please add tooltip to it to show the information about the country name and population. Also, allow the user to select a single country to highlight while all the other become light grey. "
   ]
  },
  {
   "cell_type": "code",
   "execution_count": null,
   "id": "239d0885",
   "metadata": {},
   "outputs": [],
   "source": []
  },
  {
   "cell_type": "markdown",
   "id": "60721523",
   "metadata": {},
   "source": [
    "### Part 1.2 Customize the color (10 points)\n",
    "\n",
    "Now choose a customized color map for the previous question. Explain how you choose the color map and apply it to the plot. \n"
   ]
  },
  {
   "cell_type": "code",
   "execution_count": null,
   "id": "c98da348",
   "metadata": {},
   "outputs": [],
   "source": []
  },
  {
   "cell_type": "markdown",
   "id": "2bd48567",
   "metadata": {},
   "source": [
    "### Part 1.3 Select across multiple panels (5 points)\n",
    "\n",
    "Now add an interval selection such that the user can select over any income range, such that we can generate a second plot to show the relationship between income and population for the given range. "
   ]
  },
  {
   "cell_type": "code",
   "execution_count": null,
   "id": "506491e1",
   "metadata": {},
   "outputs": [],
   "source": []
  },
  {
   "cell_type": "markdown",
   "id": "57dddd92",
   "metadata": {},
   "source": [
    "### Part 1.4 Data binding (10 points)\n",
    "\n",
    "Instead of the using the legend, now include a radio button or the region such that each selection only highlights one region and make the other points to be grey. "
   ]
  },
  {
   "cell_type": "code",
   "execution_count": null,
   "id": "88ddd35f",
   "metadata": {},
   "outputs": [],
   "source": []
  },
  {
   "cell_type": "markdown",
   "id": "19db1c70",
   "metadata": {},
   "source": [
    "### Part 1.5 Add filter with bars (10 points)\n",
    "\n",
    "Add a slider bar such that for a given value on the bar, we only show the data such that the population of the country is less than the value. "
   ]
  },
  {
   "cell_type": "code",
   "execution_count": null,
   "id": "91579a64",
   "metadata": {},
   "outputs": [],
   "source": []
  },
  {
   "cell_type": "markdown",
   "id": "d2f26355",
   "metadata": {},
   "source": [
    "## Part 2: D3 basic plots: \n",
    "\n",
    "In this question, we provide a CSV file with the penguin data. You need to make two plots by filling the given templete. When submit the homework, please submit both .html and .js. \n",
    "\n",
    "### Part 2.1 Scatter plot with groups (30 points)\n",
    "\n",
    "Use the penguin data, make a scatter plot to show the relationship between flipper length and bill length. Use differnt color for each species and add a legend. \n",
    "\n",
    "Here is a general approch here: \n",
    "\n",
    "1. In the templete, we provide you a way to read the csv file. Once the data is read into d3. All the inputs are considered as strings. Therefore, the first thing we need to do is to convert the data to numeric type. The code is also provided.\n",
    "2. Define the dimensions and margins for the SVG  and create the SVG canvas. (5 points)\n",
    "3. Set up scales for x and y axes. Set the range of X and Y to be the range of bill length and flipper length plus 5 on each side. One example of the .min function is provided. Color scale is also provided. (5 points)\n",
    "5. Add scales to the plot. (5 points)\n",
    "6. Add circles for each data point (5 points)\n",
    "7. Add x-axis and y-axis label. (5 points)\n",
    "8. Add legend. Legend has two parts. The circle and the text. First, we need to set up a layout for the legend, and then add circle and text to this legend. (5 points)\n",
    "\n",
    "### Part 2.2 Side-by-side boxplot (30 points)\n",
    "\n",
    "Use the penguin data, make a side by side boxplot to show the distribution of flipper length across three species. To make things easier, we can ignore the outliers first. \n",
    "\n",
    "Here is a general approch here: \n",
    "\n",
    "1. First convert the strings into numeric data as we did in previous question. Setup the SVG canvas, scales and add the scales to the canvas and also add labels for the scales. (5 points) \n",
    "2. In order to make a boxplot, we need to calculate some basic metrics for the data. For each species, we need to calcualte the q1, median and q3. We first define a fundtion called `rollupFunction` to list all the variables we need to calculate. Follow the example for q1 to setup for median and q3, or any other values you need. (5 points)\n",
    "3. Add comments for the following two lines (add in the .js file) to explain what those codes are doing. (5 points) \n",
    "    \n",
    "    ```js\n",
    "    const quartilesBySpecies = d3.rollup(data, rollupFunction, d => d.species);\n",
    "\n",
    "    quartilesBySpecies.forEach((quartiles, species) => {\n",
    "        const x = xScale(species);\n",
    "        const boxWidth = xScale.bandwidth();\n",
    "    ```\n",
    "4. Inside the `.forEach` function, draw the boxes. There are three things you need to draw for the box plot: \n",
    "    - The vertical line in the middel from the q1-1.5 * IQR to q3+1.5 * IQR (5 points)\n",
    "    - The rectangular shape from q1 to q3. You can add some color to hide the vertical line in the back.  (5 points)\n",
    "    - The horizental line for median (5 points)\n"
   ]
  },
  {
   "cell_type": "markdown",
   "id": "d8648737",
   "metadata": {},
   "source": []
  }
 ],
 "metadata": {
  "kernelspec": {
   "display_name": "Python 3 (ipykernel)",
   "language": "python",
   "name": "python3"
  },
  "language_info": {
   "codemirror_mode": {
    "name": "ipython",
    "version": 3
   },
   "file_extension": ".py",
   "mimetype": "text/x-python",
   "name": "python",
   "nbconvert_exporter": "python",
   "pygments_lexer": "ipython3",
   "version": "3.11.2"
  }
 },
 "nbformat": 4,
 "nbformat_minor": 5
}
